{
 "cells": [
  {
   "cell_type": "markdown",
   "metadata": {},
   "source": [
    "## **Phyics Informed Neural Networks (PINNs) for Solving PDEs**"
   ]
  },
  {
   "cell_type": "markdown",
   "metadata": {},
   "source": [
    "PINNs are a simple modification of a neural network that incorporates known physics laws, typically expressed as PDEs, in the loss function to encourage solutions to satisfy known physics. \n",
    "\n",
    "For instance, when modelling a fluid flow field, the inputs to the neural network are spatial and temporal variables, while the outputs represent the field's solution (e.g. velocity, pressure). Using automatic differentiation, we compute the partial derivatives of the predicted solution with respect to the inputs. These derivatives allow us to enforce physics constraints by adding an extra term to the loss function that penalises deviations from known laws of physics. For example, if the flow is known to be divergence-free (such as in incompressible fluids), the divergence can be an extra loss term. This approach ensures the model not only fits observed data but also respects governing equations, leading to more accurate and physically consistent predictions."
   ]
  },
  {
   "cell_type": "markdown",
   "metadata": {},
   "source": [
    "<div style=\"text-align: center;\">\n",
    "    <img src=\"../images/PINN_illustration.png\" alt=\"Description\" width=\"500\">\n",
    "</div>\n",
    "\n",
    "*Here, if $\\epsilon$ is lower than a certain threshold, we have solved the PDE.*"
   ]
  },
  {
   "cell_type": "markdown",
   "metadata": {},
   "source": [
    "**Collocation points:** these are specific points in the domain where the physics-informed loss term is evaluated. We can think of them as points in the domain where we enforce PDE constraints. Collocation points can be chosen randomly, uniformly or using adaptive sampling strategies. The distribution and density of these points can significantly impact the accuracy and convergence of the PINN. However, to get accurate solutions we would need many collocation points, which comes at a high computational cost. "
   ]
  },
  {
   "cell_type": "markdown",
   "metadata": {},
   "source": [
    "**The key difference between a traditional NN and PINN is the additional physics-informed loss term in the loss function.**"
   ]
  },
  {
   "cell_type": "markdown",
   "metadata": {},
   "source": [
    "### **Problems:**\n",
    "- PINNs for solving forward PDEs are currently far more time-consuming that the traditional numerical solver.\n",
    "- No guarantee of convergence + stability"
   ]
  }
 ],
 "metadata": {
  "language_info": {
   "name": "python"
  }
 },
 "nbformat": 4,
 "nbformat_minor": 2
}
