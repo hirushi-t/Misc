{
 "cells": [
  {
   "cell_type": "markdown",
   "metadata": {},
   "source": [
    "## **Neural Operators**"
   ]
  },
  {
   "cell_type": "markdown",
   "metadata": {},
   "source": [
    "PINNs incorporate the laws of physics into the traditional NN model by adding an extra term to the loss function that penalises deviations from these laws. However, PINNs do not always converge, require a large number of collocation points, and do not show any realistic speed-up compared to FEM. It is still a developing field."
   ]
  },
  {
   "cell_type": "markdown",
   "metadata": {},
   "source": [
    "### **Operators**\n",
    "An operator is a mapping that from a function to another function. Here are a few examples of operators:\n",
    "1) Identity operator:\n",
    "$$\n",
    "L(u) = u\n",
    "$$\n",
    "2) Differential operator:\n",
    "$$\n",
    "L(u) = \\frac{\\partial u}{\\partial x}\n",
    "$$\n",
    "3) Integral operator:\n",
    "$$\n",
    "L(u) = \\int_{\\Omega} u(x,t) dx\n",
    "$$\n",
    "\n",
    "An operator $L$ is linear if:\n",
    "- $L(u+v) = L(u) + L(v)$ for all functions $u$ and $v$\n",
    "- $L(ku) = kL(u)$ for all functions $u$ and scalar constants $c \\in \\mathbb{R}$\n",
    "\n",
    "### **PDE in Operator Form**\n",
    "Any PDE with unknown function $u$ can be written as:\n",
    "$$\n",
    "(Lu)(x) = f(x)\n",
    "$$\n",
    "where:\n",
    "- $L$ is a differential operator that acts on $u$\n",
    "- $f(x)$ is considered the source term\n",
    "- $u(x)$ is the solution of the PDE (the unknown function)\n",
    "\n",
    "**A PDE is linear if the operator L is linear.**\n",
    "\n",
    "Example (**Darcy Flow**):\n",
    "- Governing equation:\n",
    "$$\n",
    "- \\nabla a(x) \\nabla u(x) = f(x)\n",
    "$$\n",
    "- Operator:\n",
    "$$\n",
    "L = \\nabla a \\nabla\n",
    "$$\n",
    "- a(x) is called the parameter of the PDE\n",
    "- We denote the operator $L_{\\alpha}$ which is parameterised by $\\alpha$.\n"
   ]
  },
  {
   "cell_type": "markdown",
   "metadata": {},
   "source": [
    "CONTINUE"
   ]
  },
  {
   "cell_type": "markdown",
   "metadata": {},
   "source": []
  }
 ],
 "metadata": {
  "language_info": {
   "name": "python"
  }
 },
 "nbformat": 4,
 "nbformat_minor": 2
}
